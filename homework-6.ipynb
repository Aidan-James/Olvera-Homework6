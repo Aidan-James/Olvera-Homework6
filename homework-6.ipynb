{
 "cells": [
  {
   "cell_type": "markdown",
   "metadata": {},
   "source": [
    "# Homework 6: Simulating the Ising model\n",
    "\n",
    "**Due Thursday, February 28**  \n",
    "\n",
    "Aidan-James Olvera \n",
    "\n",
    "### Homework checklist\n",
    "\n",
    "Before submitting, make sure that you\n",
    "\n",
    "- Fill in your name in the space above\n",
    "- Cite any resources that you used while working on this homework\n",
    "- 1.a. Fill in the code to randomize the initial configuration\n",
    "- 1.b. Test the code from 1.a\n",
    "- 1.c. Fill in the code to choose a spin at random\n",
    "- 1.d. Test the code from 1.c\n",
    "- 1.e. Fill in the code to compute change in energy\n",
    "- 1.f. Test the code from 1.e  \n",
    "- 2. Fill in the code to complete the MC simulation  \n",
    "- 3.a. Run the simulation at high temperature  \n",
    "- 3.b. Plot the animation at high temperature  \n",
    "- 3.c. Run the simulation at low temperature\n",
    "- 3.d. Plot the animation at low temperature  \n",
    "- 3.e. Interpret your results"
   ]
  },
  {
   "cell_type": "markdown",
   "metadata": {},
   "source": [
    "## Discussion\n",
    "\n",
    "In [lecture 12](https://github.com/Physics177-2019/lecture-12) we introduced the [Ising model](https://en.wikipedia.org/wiki/Ising_model). In [lecture 14](https://github.com/Physics177-2019/lecture-14) we talked about how to practically implement a [MCMC](https://en.wikipedia.org/wiki/Markov_chain_Monte_Carlo) algorithm, using the 2D Ising model as an example. In this homework we will complete this exercise and use MCMC to study the 2D Ising model.\n",
    "\n",
    "As a reminder, the Ising model describes a set of spins arranged on a lattice. In two dimensions, the configuration is described by a collection of spin variables $\\sigma_{i,j}\\in\\{-1,1\\}$, with $i,j = 1, 2, \\ldots, N$. Here the energy of a configuration is\n",
    "$$ \n",
    "E(\\underline{\\sigma}) = -\\sum_{i=1}^{N}\\sum_{j=1}^{N} J \\left(\\sigma_{i,j}\\,\\sigma_{i+1,j} + \\sigma_{i,j}\\,\\sigma_{i,j+1}\\right)\\,.\n",
    "$$\n",
    "\n",
    "The coupling $J$ tells us how strong the interaction is between two neighboring spins. Here we'll assume periodic boundary conditions, so that the $(N+1)$th spin index is equal to $1$ -- in other words, $\\sigma_{N+1,j}=\\sigma_{1,j}$ and $\\sigma_{i,N+1}=\\sigma_{i,1}$."
   ]
  },
  {
   "cell_type": "markdown",
   "metadata": {},
   "source": [
    "## 1. Building the simulation step by step\n",
    "\n",
    "Monte Carlo simulation of a system such as this one usually can't be performed in just a few lines. We'll make our work simpler by writing down the things that our program needs to do, and then writing a function to execute each one of those things.\n",
    "\n",
    "In general, the steps are:\n",
    "\n",
    "1. Prepare an initial configuration of the system  \n",
    "2. Iterate Monte Carlo  \n",
    "    a. Randomly choose a spin to flip  \n",
    "    b. Compute the change in energy if the spin flips  \n",
    "    c. Draw a random number and choose whether or not the spin flips  \n",
    "    d. Update and save the configuration  \n",
    "3. Analyze and visualize the results  \n",
    "\n",
    "### 1.a. Set up the initial configuration\n",
    "\n",
    "Let's call our configuration `s`. As in the previous lecture, we'll make `s` a `numpy` array. This time, we'll choose a larger system size, $N=20$. And, rather than starting in a configuration with the spins all the same, we'll start with them in a random orientation. \n",
    "\n",
    "Fill in the code below to define a function, `initialize_spins`, that takes a configuration as input and returns the spins in a random orientation."
   ]
  },
  {
   "cell_type": "code",
   "execution_count": 1,
   "metadata": {},
   "outputs": [],
   "source": [
    "import numpy as np\n",
    "import numpy.random as rng\n",
    "\n",
    "# Define the configuration\n",
    "\n",
    "N = 20\n",
    "s = np.ones((N, N)) # right now, they are all ones!\n",
    "prob = [1, -1]\n",
    "# Now write the function to randomize the configuration\n",
    "\n",
    "def initialize_spins(s):\n",
    "    \"\"\" \n",
    "    Takes an input configuration 's' and sets each spin to be \n",
    "        +1 with probability 1/2, or\n",
    "        -1 with probability 1/2\n",
    "    and returns the result\n",
    "    \"\"\"\n",
    "    \n",
    "    # Iterate through all the entries of s\n",
    "    \n",
    "    for i in range(len(s)):\n",
    "        for j in range(len(s[i])):\n",
    "            \n",
    "            s[i,j] = np.random.choice(prob)\n",
    "            \n",
    "            # < Your code here! >\n",
    "            # Set s[i, j] to +1 or -1 with probability 1/2\n",
    "            # Hint: one way to do this is with the numpy.random.choice function,\n",
    "            # see the notebook from lecture 9 for an example\n",
    "            \n",
    "    # Return the result\n",
    "    \n",
    "    return s"
   ]
  },
  {
   "cell_type": "markdown",
   "metadata": {},
   "source": [
    "### 1.b. Test `initialize_spins`\n",
    "\n",
    "Execute the code block below to test your function. If it works properly, you should see a $20\\times20$ array of numbers that are equal to $\\pm 1$, with about an even number of positive and negative spins."
   ]
  },
  {
   "cell_type": "code",
   "execution_count": 2,
   "metadata": {},
   "outputs": [
    {
     "name": "stdout",
     "output_type": "stream",
     "text": [
      "The dimension of the configuration array is (20, 20)\n",
      "There are 195 + spins and 205 - spins\n",
      "The configuration is:\n",
      "[[-1.  1.  1. -1. -1. -1.  1. -1.  1.  1. -1. -1. -1.  1. -1.  1. -1.  1.\n",
      "  -1.  1.]\n",
      " [-1.  1.  1. -1.  1. -1.  1.  1. -1. -1. -1. -1.  1.  1.  1.  1.  1. -1.\n",
      "   1.  1.]\n",
      " [ 1. -1. -1.  1.  1.  1.  1.  1. -1.  1.  1.  1.  1. -1. -1. -1.  1. -1.\n",
      "   1.  1.]\n",
      " [ 1.  1.  1.  1.  1. -1. -1. -1. -1. -1.  1. -1.  1.  1. -1.  1. -1.  1.\n",
      "   1. -1.]\n",
      " [-1.  1.  1.  1. -1.  1.  1. -1.  1. -1.  1. -1.  1. -1.  1. -1. -1. -1.\n",
      "   1.  1.]\n",
      " [ 1. -1. -1. -1. -1. -1.  1. -1. -1. -1.  1.  1. -1. -1.  1. -1.  1.  1.\n",
      "  -1.  1.]\n",
      " [-1. -1.  1. -1. -1. -1. -1. -1. -1.  1. -1.  1.  1. -1.  1.  1.  1.  1.\n",
      "  -1. -1.]\n",
      " [-1. -1. -1.  1.  1. -1. -1. -1.  1. -1. -1. -1. -1.  1.  1. -1. -1. -1.\n",
      "   1. -1.]\n",
      " [-1. -1. -1.  1.  1.  1.  1. -1.  1.  1. -1.  1.  1. -1. -1. -1. -1.  1.\n",
      "  -1.  1.]\n",
      " [ 1.  1.  1. -1. -1. -1.  1. -1.  1.  1. -1. -1.  1. -1. -1. -1. -1.  1.\n",
      "   1. -1.]\n",
      " [ 1. -1. -1.  1. -1.  1. -1. -1.  1. -1.  1. -1. -1.  1.  1.  1. -1.  1.\n",
      "   1.  1.]\n",
      " [-1.  1.  1.  1. -1. -1.  1.  1.  1. -1. -1.  1. -1. -1. -1. -1. -1. -1.\n",
      "  -1. -1.]\n",
      " [-1.  1.  1. -1.  1. -1. -1. -1.  1. -1. -1. -1. -1. -1.  1. -1.  1.  1.\n",
      "  -1. -1.]\n",
      " [-1.  1. -1.  1. -1.  1. -1. -1.  1. -1.  1.  1.  1.  1.  1. -1.  1. -1.\n",
      "  -1.  1.]\n",
      " [-1. -1.  1.  1.  1.  1. -1. -1. -1.  1. -1. -1.  1. -1.  1. -1.  1.  1.\n",
      "  -1. -1.]\n",
      " [-1. -1. -1.  1.  1.  1.  1. -1.  1. -1.  1. -1.  1.  1.  1.  1. -1. -1.\n",
      "  -1. -1.]\n",
      " [ 1.  1.  1.  1.  1.  1. -1. -1.  1.  1. -1.  1. -1. -1. -1. -1.  1.  1.\n",
      "   1. -1.]\n",
      " [ 1.  1. -1.  1. -1.  1.  1. -1. -1.  1.  1.  1.  1.  1.  1. -1. -1.  1.\n",
      "  -1.  1.]\n",
      " [-1. -1.  1.  1. -1. -1.  1.  1. -1.  1. -1. -1.  1. -1. -1. -1. -1. -1.\n",
      "  -1. -1.]\n",
      " [-1. -1.  1.  1. -1.  1.  1.  1.  1.  1. -1. -1.  1.  1.  1.  1. -1. -1.\n",
      "  -1.  1.]]\n"
     ]
    }
   ],
   "source": [
    "# Define the configuration\n",
    "\n",
    "N = 20\n",
    "s = np.ones((N, N))\n",
    "\n",
    "# Randomize it\n",
    "\n",
    "s = initialize_spins(s)\n",
    "\n",
    "# And print the results\n",
    "\n",
    "print('The dimension of the configuration array is {}'.format(s.shape))\n",
    "print('There are {} + spins and {} - spins'.format(np.sum(s==1), np.sum(s==-1)))\n",
    "print('The configuration is:')\n",
    "print(s)"
   ]
  },
  {
   "cell_type": "markdown",
   "metadata": {},
   "source": [
    "### 1.c. Choose a random spin\n",
    "\n",
    "Next, during each step of the MC algorithm we need to choose a spin at random, which we will attempt to flip.\n",
    "\n",
    "Fill in the code below to define a function, `choose_spin`, that will select spin indices uniformly at random from the lattice."
   ]
  },
  {
   "cell_type": "code",
   "execution_count": 3,
   "metadata": {},
   "outputs": [],
   "source": [
    "x = 0\n",
    "list = [0]\n",
    "\n",
    "for i in range(N-1):\n",
    "    x += 1\n",
    "    list.append(x)\n",
    "    \n",
    "    \n",
    "def choose_spin():\n",
    "    \"\"\"\n",
    "    Choose spin indices at random. \n",
    "    We assume that the lattice size N has already been defined.\n",
    "    \"\"\"\n",
    "    \n",
    "    # Choose i and j indices at random from [0, 1, ..., N-1]\n",
    "    # Hint: see the example from lecture 14 for one way to do this!\n",
    "    \n",
    "    i = np.random.choice(list) # < Your code here! >\n",
    "    j = np.random.choice(list) # < Your code here! >\n",
    "    \n",
    "    # And return them\n",
    "    \n",
    "    return i, j"
   ]
  },
  {
   "cell_type": "markdown",
   "metadata": {},
   "source": [
    "### 1.d. Test `choose_spin`\n",
    "\n",
    "Execute the code block below to test your function. If it works properly, you should see a nearly uniform distribution over the range from $\\left[0, 1, \\ldots, N-1\\right]$."
   ]
  },
  {
   "cell_type": "code",
   "execution_count": 4,
   "metadata": {},
   "outputs": [
    {
     "data": {
      "image/png": "[encoded data removed]",
      "text/plain": [
       "<matplotlib.figure.Figure at 0x111bbf518>"
      ]
     },
     "metadata": {},
     "output_type": "display_data"
    }
   ],
   "source": [
    "%matplotlib inline\n",
    "import matplotlib.pyplot as plt\n",
    "import seaborn as sns\n",
    "\n",
    "i_indices = []\n",
    "j_indices = []\n",
    "\n",
    "# Randomly sample a lot of i, j indices\n",
    "\n",
    "for k in range(10**4):\n",
    "    i, j = choose_spin()\n",
    "    i_indices.append(i)\n",
    "    j_indices.append(j)\n",
    "    \n",
    "# And check their distribution\n",
    "\n",
    "sns.distplot(i_indices, bins=np.arange(0, N+1, 1), norm_hist=True, kde=False, hist_kws={'align':'left'}, label='i')\n",
    "sns.distplot(j_indices, bins=np.arange(0, N+1, 1), norm_hist=True, kde=False, hist_kws={'align':'left'}, label='j')\n",
    "plt.title(r'Distribution of i, j indices over $10^4$ random samples')\n",
    "plt.xlabel('index')\n",
    "plt.ylabel('frequency');"
   ]
  },
  {
   "cell_type": "markdown",
   "metadata": {},
   "source": [
    "### 1.e. Compute the change in energy\n",
    "\n",
    "The most important step we need to complete is to compute how the energy would change if we flipped a selected spin $\\sigma_{i,j}$ to $-\\sigma_{i,j}$. For example, if $\\sigma_{i,j}=-1$, how would the energy change if we set $\\sigma_{i,j}=1$ instead?\n",
    "\n",
    "Fill in the code below to define a function `compute_delta_E` to compute the change in energy if the spin at position $(i, j)$ is flipped. We will assume that the coupling $J$ is already defined. Refer back to the Discussion for the energy expression. **Remember to account for periodic boundary conditions so that you don't overrun the configuration array!**"
   ]
  },
  {
   "cell_type": "code",
   "execution_count": 5,
   "metadata": {},
   "outputs": [],
   "source": [
    "# Set the value of the coupling\n",
    "\n",
    "J = 1\n",
    "\n",
    "\n",
    "# Define the function to compute change in energy\n",
    "\n",
    "def compute_delta_E(s, i, j):\n",
    "    \"\"\"\n",
    "    Compute the change in the energy of the system if the value\n",
    "    of the spin at index (i, j) is flipped.\n",
    "    \"\"\"\n",
    "    \n",
    "    delta_E = 2*J*s[i, j]*(s[(i-1)%N, j] + s[i, (j-1)%N] + s[(i+1)%N, j] + s[i, (j+1)%N])\n",
    "    \n",
    "    # Hint: look back to lecture 14 if you are having trouble\n",
    "    \n",
    "    return delta_E"
   ]
  },
  {
   "cell_type": "markdown",
   "metadata": {},
   "source": [
    "### 1.f. Test `compute_delta_E`\n",
    "\n",
    "Execute the code block below to test your function. We'll prepare two special configurations and check to see if the computed $Delta E$ is the same as what we expect. If you don't get the expected result, return to 1.e. above to revise your function."
   ]
  },
  {
   "cell_type": "code",
   "execution_count": 6,
   "metadata": {},
   "outputs": [
    {
     "name": "stdout",
     "output_type": "stream",
     "text": [
      "Success! Got delta_E = 8.00, expected delta_E = 8.00\n",
      "Success! Got delta_E = 0.00, expected delta_E = 0.00\n"
     ]
    }
   ],
   "source": [
    "# Define the test configuration\n",
    "\n",
    "N = 20\n",
    "s = np.ones((N, N))\n",
    "\n",
    "\n",
    "# And test compute_delta_E\n",
    "\n",
    "dE = compute_delta_E(s, N-1, N-1)\n",
    "if dE == 8:\n",
    "    print('Success! Got delta_E = %.2f, expected delta_E = %.2f' % (dE, 8))\n",
    "else:\n",
    "    print('Test unsuccessful! Got delta_E = %.2f, expected delta_E = %.2f' % (dE, 8))\n",
    "\n",
    "s[N-3,N-2] = -1\n",
    "s[N-2,N-3] = -1\n",
    "\n",
    "dE = compute_delta_E(s, N-2, N-2)\n",
    "if dE == 0:\n",
    "    print('Success! Got delta_E = %.2f, expected delta_E = %.2f' % (dE, 0))\n",
    "else:\n",
    "    print('Test unsuccessful! Got delta_E = %.2f, expected delta_E = %.2f' % (dE, 0))"
   ]
  },
  {
   "cell_type": "markdown",
   "metadata": {},
   "source": [
    "## 2. Code the simulation\n",
    "\n",
    "Now we've defined all the helper functions that we need to run our Monte Carlo simulation. Recall that our steps were\n",
    "\n",
    "1. Prepare an initial configuration of the system  \n",
    "2. Iterate Monte Carlo  \n",
    "    a. Randomly choose a spin to flip  \n",
    "    b. Compute the change in energy if the spin flips  \n",
    "    c. Draw a random number and choose whether or not the spin flips  \n",
    "    d. Update and save the configuration  \n",
    "3. Analyze and visualize the results  \n",
    "\n",
    "To choose whether or not the spin flips, we'll follow the [Metropolis rule](https://en.wikipedia.org/wiki/Metropolis%E2%80%93Hastings_algorithm),\n",
    "\n",
    "$$\n",
    "P({\\rm flip}) = \\begin{cases} \n",
    "1 &\\text{if }\\Delta E < 0\\\\\n",
    "e^{-\\Delta E/T} &\\text{if } \\Delta E > 0\n",
    "\\end{cases} \\,.\n",
    "$$\n",
    "\n",
    "\n",
    "Fill in the code below to execute these steps. We will put our Monte Carlo simulation code inside a function `MC_simulate` so that we can reuse it easily. Analysis and visualization will be in part 3 below. "
   ]
  },
  {
   "cell_type": "code",
   "execution_count": 7,
   "metadata": {},
   "outputs": [],
   "source": [
    "import numpy as np\n",
    "import numpy.random as rng\n",
    "\n",
    "def MC_simulate(T, n_steps):\n",
    "    \"\"\"\n",
    "    This function runs a Monte Carlo simulation of the 2D Ising model\n",
    "    and returns an array of n_steps configurations of the system.\n",
    "    We assume that the system size N, the configuration array s, \n",
    "    and the coupling strength J are already defined.\n",
    "    The temperature T and number of Monte Carlo steps n_steps are\n",
    "    passed as parameters.\n",
    "    \"\"\"\n",
    "    \n",
    "    # Define global variables\n",
    "\n",
    "    N = 20              # system size\n",
    "    s = np.ones((N, N)) # configuration array\n",
    "    J = 1               # coupling strength\n",
    "    configs = []        # container for configurations\n",
    "    \n",
    "    # Randomize the starting configuration\n",
    "    \n",
    "    s = initialize_spins(s)# < Your code here! Use initialize_spins from 1.a to do this. >\n",
    "    \n",
    "    # Begin MC simulation\n",
    "    \n",
    "    for _step in range(n_steps):\n",
    "        \n",
    "        # Record the current configuration\n",
    "        \n",
    "        configs.append(np.copy(s)) # NOTE: because this is a numpy array, we need to COPY it\n",
    "        \n",
    "        # Choose a random spin to attempt to flip\n",
    "        \n",
    "        i, j = choose_spin()# < Your code here! Use choose_spin from 1.c to do this. >\n",
    "        \n",
    "        # Compute the change in energy\n",
    "        \n",
    "        delta_E = compute_delta_E(s, i, j)# < Your code here! Use compute_delta_E from 1.e to do this. >\n",
    "        \n",
    "        # Check to see if the spin flips\n",
    "        \n",
    "        temp = s[i][j]\n",
    "        \n",
    "        if delta_E<0:\n",
    "            s[1, j] = s[i, j] * -1# < Your code here! Energy is lowered, so we flip the spin at index (i, j). >\n",
    "        \n",
    "        elif rng.rand()<np.exp(-delta_E/T):\n",
    "            s[1, j] = s[i, j] * -1# < Your code here! Energy is higher but check passes, so we flip the spin at index (i, j). >\n",
    "    \n",
    "    # Finally, return the stored configurations\n",
    "    \n",
    "    return configs"
   ]
  },
  {
   "cell_type": "markdown",
   "metadata": {},
   "source": [
    "## 3. Analyze and visualize the results\n",
    "\n",
    "### 3.a. The Ising model at high temperature\n",
    "\n",
    "First, let's run a simulation at a temperature of $T=5$. We'll take $10^4$ Monte Carlo steps in our simulation. Fill in the code below to gather the simulation data and display it. We'll use some functions from `matplotlib` to make an [animation](https://towardsdatascience.com/how-to-create-animated-graphs-in-python-bb619cc2dec1) so that we can visualize how the configuration of the system changes!\n",
    "\n",
    "**Note:** animation can be tricky, and the libraries needed to create animations are not as well standardized as other ones we've been using. **If this code fails**, you can either 1. troubleshoot the problem (for example, this might require installing a library like `ffmpeg`), or 2. proceed to **Problem X** below this one to produce the animations. If you choose the second option, make sure to return to part 3.e to reflect on the results."
   ]
  },
  {
   "cell_type": "code",
   "execution_count": 8,
   "metadata": {},
   "outputs": [
    {
     "ename": "KeyError",
     "evalue": "'ffmpeg'",
     "output_type": "error",
     "traceback": [
      "\u001b[0;31m---------------------------------------------------------------------------\u001b[0m",
      "\u001b[0;31mKeyError\u001b[0m                                  Traceback (most recent call last)",
      "\u001b[0;32m<ipython-input-8-6648bcb90a51>\u001b[0m in \u001b[0;36m<module>\u001b[0;34m()\u001b[0m\n\u001b[1;32m     23\u001b[0m \u001b[0mplt\u001b[0m\u001b[0;34m.\u001b[0m\u001b[0mtitle\u001b[0m\u001b[0;34m(\u001b[0m\u001b[0;34m'2D Ising model evolution (T = 5)'\u001b[0m\u001b[0;34m)\u001b[0m\u001b[0;34m\u001b[0m\u001b[0m\n\u001b[1;32m     24\u001b[0m \u001b[0;34m\u001b[0m\u001b[0m\n\u001b[0;32m---> 25\u001b[0;31m \u001b[0mwriter\u001b[0m \u001b[0;34m=\u001b[0m \u001b[0manimation\u001b[0m\u001b[0;34m.\u001b[0m\u001b[0mwriters\u001b[0m\u001b[0;34m[\u001b[0m\u001b[0;34m'ffmpeg'\u001b[0m\u001b[0;34m]\u001b[0m\u001b[0;34m\u001b[0m\u001b[0m\n\u001b[0m\u001b[1;32m     26\u001b[0m \u001b[0mwriter\u001b[0m \u001b[0;34m=\u001b[0m \u001b[0mwriter\u001b[0m\u001b[0;34m(\u001b[0m\u001b[0mfps\u001b[0m\u001b[0;34m=\u001b[0m\u001b[0;36m20\u001b[0m\u001b[0;34m,\u001b[0m \u001b[0mmetadata\u001b[0m\u001b[0;34m=\u001b[0m\u001b[0mdict\u001b[0m\u001b[0;34m(\u001b[0m\u001b[0martist\u001b[0m\u001b[0;34m=\u001b[0m\u001b[0;34m'Me'\u001b[0m\u001b[0;34m)\u001b[0m\u001b[0;34m)\u001b[0m\u001b[0;34m\u001b[0m\u001b[0m\n\u001b[1;32m     27\u001b[0m \u001b[0;34m\u001b[0m\u001b[0m\n",
      "\u001b[0;32m/anaconda3/lib/python3.6/site-packages/matplotlib/animation.py\u001b[0m in \u001b[0;36m__getitem__\u001b[0;34m(self, name)\u001b[0m\n\u001b[1;32m    168\u001b[0m         \u001b[0;32mif\u001b[0m \u001b[0;32mnot\u001b[0m \u001b[0mself\u001b[0m\u001b[0;34m.\u001b[0m\u001b[0mavail\u001b[0m\u001b[0;34m:\u001b[0m\u001b[0;34m\u001b[0m\u001b[0m\n\u001b[1;32m    169\u001b[0m             \u001b[0;32mraise\u001b[0m \u001b[0mRuntimeError\u001b[0m\u001b[0;34m(\u001b[0m\u001b[0;34m\"No MovieWriters available!\"\u001b[0m\u001b[0;34m)\u001b[0m\u001b[0;34m\u001b[0m\u001b[0m\n\u001b[0;32m--> 170\u001b[0;31m         \u001b[0;32mreturn\u001b[0m \u001b[0mself\u001b[0m\u001b[0;34m.\u001b[0m\u001b[0mavail\u001b[0m\u001b[0;34m[\u001b[0m\u001b[0mname\u001b[0m\u001b[0;34m]\u001b[0m\u001b[0;34m\u001b[0m\u001b[0m\n\u001b[0m\u001b[1;32m    171\u001b[0m \u001b[0;34m\u001b[0m\u001b[0m\n\u001b[1;32m    172\u001b[0m \u001b[0mwriters\u001b[0m \u001b[0;34m=\u001b[0m \u001b[0mMovieWriterRegistry\u001b[0m\u001b[0;34m(\u001b[0m\u001b[0;34m)\u001b[0m\u001b[0;34m\u001b[0m\u001b[0m\n",
      "\u001b[0;31mKeyError\u001b[0m: 'ffmpeg'"
     ]
    },
    {
     "data": {
      "image/png": "[encoded data removed]",
      "text/plain": [
       "<matplotlib.figure.Figure at 0x1a1ba4a668>"
      ]
     },
     "metadata": {},
     "output_type": "display_data"
    }
   ],
   "source": [
    "%matplotlib inline\n",
    "import matplotlib\n",
    "import matplotlib.pyplot as plt\n",
    "import matplotlib.animation as animation\n",
    "from IPython.display import HTML\n",
    "\n",
    "# Gather the simulation data\n",
    "T = 5\n",
    "n_steps = 10**4\n",
    "configs = MC_simulate(T, n_steps)# < Your code here! Use the MC_simulate function you defined above. >\n",
    "\n",
    "\n",
    "# Visualize the configurations!\n",
    "\n",
    "xs, ys = np.meshgrid(range(N), range(N))\n",
    "fig = plt.figure(figsize=(5,5))\n",
    "plt.xlim(0, N-1)\n",
    "plt.ylim(0, N-1)\n",
    "plt.xticks(range(0,N,2))\n",
    "plt.yticks(range(0,N,2))\n",
    "plt.xlabel('i')\n",
    "plt.ylabel('j')\n",
    "plt.title('2D Ising model evolution (T = 5)')\n",
    "\n",
    "writer = animation.writers['ffmpeg']\n",
    "writer = writer(fps=20, metadata=dict(artist='Me'))\n",
    "\n",
    "p = plt.pcolormesh(xs, ys, configs[0], cmap=plt.get_cmap('binary'))\n",
    "\n",
    "def animate(i):\n",
    "    p.set_array(configs[i].ravel())\n",
    "    return p\n",
    "\n",
    "anim_high = animation.FuncAnimation(fig, animate, frames=range(0, 10000, 10), interval=10)\n",
    "anim_high.save('T=5.mp4', writer=writer)"
   ]
  },
  {
   "cell_type": "markdown",
   "metadata": {},
   "source": [
    "### 3.b. Display the animation (high T)\n",
    "\n",
    "The code above will create and save an animation of the evolution of the system. Execute the code block below to display the animation in the Jupyter notebook."
   ]
  },
  {
   "cell_type": "code",
   "execution_count": 52,
   "metadata": {},
   "outputs": [
    {
     "ename": "NameError",
     "evalue": "name 'anim_high' is not defined",
     "output_type": "error",
     "traceback": [
      "\u001b[0;31m---------------------------------------------------------------------------\u001b[0m",
      "\u001b[0;31mNameError\u001b[0m                                 Traceback (most recent call last)",
      "\u001b[0;32m<ipython-input-52-c429973b8086>\u001b[0m in \u001b[0;36m<module>\u001b[0;34m()\u001b[0m\n\u001b[0;32m----> 1\u001b[0;31m \u001b[0mHTML\u001b[0m\u001b[0;34m(\u001b[0m\u001b[0manim_high\u001b[0m\u001b[0;34m.\u001b[0m\u001b[0mto_html5_video\u001b[0m\u001b[0;34m(\u001b[0m\u001b[0;34m)\u001b[0m\u001b[0;34m)\u001b[0m\u001b[0;34m\u001b[0m\u001b[0m\n\u001b[0m",
      "\u001b[0;31mNameError\u001b[0m: name 'anim_high' is not defined"
     ]
    }
   ],
   "source": [
    "HTML(anim_high.to_html5_video())"
   ]
  },
  {
   "cell_type": "markdown",
   "metadata": {},
   "source": [
    "### 3.c. The Ising model at low temperature\n",
    "\n",
    "Next, let's run a simulation at a temperature of $T=1$. As before we'll take $10^4$ Monte Carlo steps. Fill in the code below to gather the simulation data and display it."
   ]
  },
  {
   "cell_type": "code",
   "execution_count": null,
   "metadata": {},
   "outputs": [],
   "source": [
    "%matplotlib inline\n",
    "import matplotlib\n",
    "import matplotlib.pyplot as plt\n",
    "import matplotlib.animation as animation\n",
    "from IPython.display import HTML\n",
    "\n",
    "# Gather the simulation data\n",
    "\n",
    "configs = # < Your code here! Use the MC_simulate function you defined above. >\n",
    "\n",
    "\n",
    "# Visualize the configurations!\n",
    "\n",
    "xs, ys = np.meshgrid(range(N), range(N))\n",
    "fig = plt.figure(figsize=(5,5))\n",
    "plt.xlim(0, N-1)\n",
    "plt.ylim(0, N-1)\n",
    "plt.xticks(range(0,N,2))\n",
    "plt.yticks(range(0,N,2))\n",
    "plt.xlabel('i')\n",
    "plt.ylabel('j')\n",
    "plt.title('2D Ising model evolution (T = 1)')\n",
    "\n",
    "writer = animation.writers['ffmpeg']\n",
    "writer = writer(fps=20, metadata=dict(artist='Me'))\n",
    "\n",
    "p = plt.pcolormesh(xs, ys, configs[0], cmap=plt.get_cmap('binary'))\n",
    "\n",
    "def animate(i):\n",
    "    p.set_array(configs[i].ravel())\n",
    "    return p\n",
    "\n",
    "anim_low = animation.FuncAnimation(fig, animate, frames=range(0, 10000, 10), interval=10)\n",
    "anim_low.save('T=1.mp4', writer=writer)"
   ]
  },
  {
   "cell_type": "markdown",
   "metadata": {},
   "source": [
    "### 3.d. Display the animation (low T)\n",
    "\n",
    "Execute the code block below to display the evolution of the 2D Ising model at low temperature."
   ]
  },
  {
   "cell_type": "code",
   "execution_count": null,
   "metadata": {},
   "outputs": [],
   "source": [
    "HTML(anim_low.to_html5_video())"
   ]
  },
  {
   "cell_type": "markdown",
   "metadata": {},
   "source": [
    "### 3.e. Assessing the results\n",
    "\n",
    "Compare your simulations at high and low temperatures. What differences do you observe? Can you explain the results?\n",
    "\n",
    "We won't have time to discuss this in the class, but these simulations show a [phase transition](https://en.wikipedia.org/wiki/Phase_transition) in the 2D Ising model. The critical temperature $T_c$ for the phase transition is \n",
    "\n",
    "$$ T_c = \\frac{2}{\\log\\left(1+\\sqrt{2}\\right)} \\approx 2.27\\,. $$\n",
    "\n",
    "The simulation at high temperature is above $T_c$, in the disordered phase, and the simulation at low temperature is in the ordered phase below $T_c$."
   ]
  },
  {
   "cell_type": "markdown",
   "metadata": {},
   "source": [
    "**FILL THIS IN**\n",
    "\n",
    "Compare the simulations at high and low temperatures."
   ]
  },
  {
   "cell_type": "markdown",
   "metadata": {},
   "source": [
    "## X. If the animation code above fails...\n",
    "\n",
    "Animation is particularly platform-dependent, and may be difficult to run smoothly. If the code in part 3 doesn't work, the approach below *should* still be all right.\n",
    "\n",
    "### X.a. Save animation frames\n",
    "\n",
    "First, we can scan through and save individual frames for each simulation. If necessary, fill in the code below to do this. Make sure to set the temperature! If the code in part 3 does not execute for you, **you'll need to do this twice**: once at high temperature and once at low temperature."
   ]
  },
  {
   "cell_type": "code",
   "execution_count": 53,
   "metadata": {},
   "outputs": [
    {
     "data": {
      "text/plain": [
       "<matplotlib.figure.Figure at 0x1a1f3ea630>"
      ]
     },
     "metadata": {},
     "output_type": "display_data"
    }
   ],
   "source": [
    "# Set the temperature\n",
    "\n",
    "T = 5# FILL THIS IN!\n",
    "\n",
    "\n",
    "# Import matplotlib\n",
    "\n",
    "import matplotlib\n",
    "import matplotlib.pyplot as plt\n",
    "\n",
    "\n",
    "# Gather the simulation data\n",
    "\n",
    "configs = MC_simulate(T, 10000) # < Your code here! Use the MC_simulate function you defined. >\n",
    "\n",
    "\n",
    "# Visualize the configurations!\n",
    "\n",
    "xs, ys = np.meshgrid(range(N), range(N))\n",
    "fig = plt.figure(figsize=(5,5))\n",
    "plt.xlim(0, N-1)\n",
    "plt.ylim(0, N-1)\n",
    "plt.xticks(range(0,N,2))\n",
    "plt.yticks(range(0,N,2))\n",
    "plt.xlabel('i')\n",
    "plt.ylabel('j')\n",
    "plt.title('2D Ising model evolution (T = %d)' % T)\n",
    "\n",
    "for i in range(0, 10000, 100):\n",
    "    plt.pcolormesh(xs, ys, configs[i], cmap=plt.get_cmap('binary'))\n",
    "    plt.savefig('T=%d-%d.png' % (T, i//100))\n",
    "    plt.clf()"
   ]
  },
  {
   "cell_type": "markdown",
   "metadata": {},
   "source": [
    "### X.b. Stitch frames together into an animation\n",
    "\n",
    "Execute the code block below to combine the individual frames into an animation. For this we'll use the `apng` package. You can install it by running `pip install apng` at the terminal/command line. After the package is installed, you'll need to restart the kernel to use it."
   ]
  },
  {
   "cell_type": "code",
   "execution_count": 54,
   "metadata": {},
   "outputs": [
    {
     "ename": "ModuleNotFoundError",
     "evalue": "No module named 'apng'",
     "output_type": "error",
     "traceback": [
      "\u001b[0;31m---------------------------------------------------------------------------\u001b[0m",
      "\u001b[0;31mModuleNotFoundError\u001b[0m                       Traceback (most recent call last)",
      "\u001b[0;32m<ipython-input-54-133b08c22b33>\u001b[0m in \u001b[0;36m<module>\u001b[0;34m()\u001b[0m\n\u001b[1;32m      6\u001b[0m \u001b[0;31m# Import the package\u001b[0m\u001b[0;34m\u001b[0m\u001b[0;34m\u001b[0m\u001b[0m\n\u001b[1;32m      7\u001b[0m \u001b[0;34m\u001b[0m\u001b[0m\n\u001b[0;32m----> 8\u001b[0;31m \u001b[0;32mfrom\u001b[0m \u001b[0mapng\u001b[0m \u001b[0;32mimport\u001b[0m \u001b[0mAPNG\u001b[0m\u001b[0;34m\u001b[0m\u001b[0m\n\u001b[0m\u001b[1;32m      9\u001b[0m \u001b[0;34m\u001b[0m\u001b[0m\n\u001b[1;32m     10\u001b[0m \u001b[0mfilenames\u001b[0m \u001b[0;34m=\u001b[0m \u001b[0;34m[\u001b[0m\u001b[0;34m'T=%d-%d.png'\u001b[0m \u001b[0;34m%\u001b[0m \u001b[0;34m(\u001b[0m\u001b[0mT\u001b[0m\u001b[0;34m,\u001b[0m \u001b[0mi\u001b[0m\u001b[0;34m)\u001b[0m \u001b[0;32mfor\u001b[0m \u001b[0mi\u001b[0m \u001b[0;32min\u001b[0m \u001b[0mrange\u001b[0m\u001b[0;34m(\u001b[0m\u001b[0;36m100\u001b[0m\u001b[0;34m)\u001b[0m\u001b[0;34m]\u001b[0m\u001b[0;34m\u001b[0m\u001b[0m\n",
      "\u001b[0;31mModuleNotFoundError\u001b[0m: No module named 'apng'"
     ]
    }
   ],
   "source": [
    "# Set the temperature\n",
    "\n",
    "T = 1# FILL THIS IN!\n",
    "\n",
    "\n",
    "# Import the package\n",
    "\n",
    "from apng import APNG\n",
    "\n",
    "filenames = ['T=%d-%d.png' % (T, i) for i in range(100)]\n",
    "APNG.from_files(filenames, delay=100).save('T=%d.png' % T)"
   ]
  },
  {
   "cell_type": "markdown",
   "metadata": {},
   "source": [
    "### X.c. Display the animation\n",
    "\n",
    "**Edit this Markdown cell** to display your animation. In the line of code below, put in the proper value of T to display the image, after you've created it from X.a and X.b above.\n",
    "\n",
    "<img src=\"T=1.png\">"
   ]
  },
  {
   "cell_type": "markdown",
   "metadata": {},
   "source": [
    "I was unable to figure out how to get my computer to run the simulations, sorry."
   ]
  },
  {
   "cell_type": "code",
   "execution_count": null,
   "metadata": {},
   "outputs": [],
   "source": []
  }
 ],
 "metadata": {
  "kernelspec": {
   "display_name": "Python 3",
   "language": "python",
   "name": "python3"
  },
  "language_info": {
   "codemirror_mode": {
    "name": "ipython",
    "version": 3
   },
   "file_extension": ".py",
   "mimetype": "text/x-python",
   "name": "python",
   "nbconvert_exporter": "python",
   "pygments_lexer": "ipython3",
   "version": "3.6.4"
  }
 },
 "nbformat": 4,
 "nbformat_minor": 2
}
